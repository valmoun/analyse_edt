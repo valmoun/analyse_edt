{
 "cells": [
  {
   "cell_type": "code",
   "execution_count": 28,
   "id": "e2fbecbb",
   "metadata": {},
   "outputs": [
    {
     "data": {
      "text/plain": [
       "0      un\n",
       "1       2\n",
       "2     III\n",
       "3       4\n",
       "4    cinq\n",
       "dtype: object"
      ]
     },
     "execution_count": 28,
     "metadata": {},
     "output_type": "execute_result"
    }
   ],
   "source": [
    "import numpy as np\n",
    "import pandas as pd\n",
    "\n",
    "# Création d'une série avec des types mixtes\n",
    "# Note: Pandas convertit les types en un type commun, ici 'object'\n",
    "uneSerie = pd.Series([\"un\", 2, \"III\", 4, \"cinq\"])\n",
    "\n",
    "# Affichage de la série\n",
    "uneSerie\n"
   ]
  },
  {
   "cell_type": "code",
   "execution_count": 29,
   "id": "54b76f9d",
   "metadata": {},
   "outputs": [
    {
     "data": {
      "text/html": [
       "<div>\n",
       "<style scoped>\n",
       "    .dataframe tbody tr th:only-of-type {\n",
       "        vertical-align: middle;\n",
       "    }\n",
       "\n",
       "    .dataframe tbody tr th {\n",
       "        vertical-align: top;\n",
       "    }\n",
       "\n",
       "    .dataframe thead th {\n",
       "        text-align: right;\n",
       "    }\n",
       "</style>\n",
       "<table border=\"1\" class=\"dataframe\">\n",
       "  <thead>\n",
       "    <tr style=\"text-align: right;\">\n",
       "      <th></th>\n",
       "      <th>nom</th>\n",
       "      <th>valeur</th>\n",
       "    </tr>\n",
       "  </thead>\n",
       "  <tbody>\n",
       "    <tr>\n",
       "      <th>0</th>\n",
       "      <td>un</td>\n",
       "      <td>1.0</td>\n",
       "    </tr>\n",
       "    <tr>\n",
       "      <th>1</th>\n",
       "      <td>deux</td>\n",
       "      <td>2.0</td>\n",
       "    </tr>\n",
       "    <tr>\n",
       "      <th>2</th>\n",
       "      <td>trois</td>\n",
       "      <td>3.0</td>\n",
       "    </tr>\n",
       "    <tr>\n",
       "      <th>3</th>\n",
       "      <td>quatre</td>\n",
       "      <td>4.0</td>\n",
       "    </tr>\n",
       "    <tr>\n",
       "      <th>4</th>\n",
       "      <td>cinq</td>\n",
       "      <td>5.0</td>\n",
       "    </tr>\n",
       "  </tbody>\n",
       "</table>\n",
       "</div>"
      ],
      "text/plain": [
       "      nom  valeur\n",
       "0      un     1.0\n",
       "1    deux     2.0\n",
       "2   trois     3.0\n",
       "3  quatre     4.0\n",
       "4    cinq     5.0"
      ]
     },
     "execution_count": 29,
     "metadata": {},
     "output_type": "execute_result"
    }
   ],
   "source": [
    "# Création d'un DataFrame avec des types mixtes\n",
    "# Note: Pandas convertit les types en un type commun, ici 'object'\n",
    "unDataFrame = pd.DataFrame({\n",
    "    \"nom\": [\"un\", \"deux\", \"trois\", \"quatre\", \"cinq\"],\n",
    "    \"valeur\": [1.0, 2.0, 3.0, 4.0, 5.0]\n",
    "})\n",
    "\n",
    "# Affichage du DataFrame\n",
    "unDataFrame"
   ]
  },
  {
   "cell_type": "code",
   "execution_count": 38,
   "id": "0d79581c",
   "metadata": {},
   "outputs": [
    {
     "name": "stdout",
     "output_type": "stream",
     "text": [
      "Types de données dans le DataFrame:\n",
      "datetime64[ns]\n"
     ]
    }
   ],
   "source": [
    "# Création d'un autre DataFrame avec des dates\n",
    "# Note: Les dates sont stockées en tant que type 'datetime64[ns]'\n",
    "unAutreDataFrame = pd.date_range(start=\"2002-06-02\", end=\"2025-06-02\", periods=23)\n",
    "\n",
    "# Affichage du DataFrame\n",
    "unAutreDataFrame\n",
    "\n",
    "# Affichage des types de données (dtypes) du DataFrame\n",
    "print(\"Types de données dans le DataFrame:\")\n",
    "print(unAutreDataFrame.dtype)"
   ]
  }
 ],
 "metadata": {
  "kernelspec": {
   "display_name": "base",
   "language": "python",
   "name": "python3"
  },
  "language_info": {
   "codemirror_mode": {
    "name": "ipython",
    "version": 3
   },
   "file_extension": ".py",
   "mimetype": "text/x-python",
   "name": "python",
   "nbconvert_exporter": "python",
   "pygments_lexer": "ipython3",
   "version": "3.12.7"
  }
 },
 "nbformat": 4,
 "nbformat_minor": 5
}
